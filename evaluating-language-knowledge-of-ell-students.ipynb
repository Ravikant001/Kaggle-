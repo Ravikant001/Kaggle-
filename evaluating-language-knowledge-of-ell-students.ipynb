{
 "cells": [
  {
   "cell_type": "code",
   "execution_count": 1,
   "id": "a10500f2",
   "metadata": {
    "_cell_guid": "b1076dfc-b9ad-4769-8c92-a6c4dae69d19",
    "_uuid": "8f2839f25d086af736a60e9eeb907d3b93b6e0e5",
    "execution": {
     "iopub.execute_input": "2022-10-26T10:51:50.006294Z",
     "iopub.status.busy": "2022-10-26T10:51:50.005308Z",
     "iopub.status.idle": "2022-10-26T10:51:50.019602Z",
     "shell.execute_reply": "2022-10-26T10:51:50.018181Z"
    },
    "papermill": {
     "duration": 0.022246,
     "end_time": "2022-10-26T10:51:50.021793",
     "exception": false,
     "start_time": "2022-10-26T10:51:49.999547",
     "status": "completed"
    },
    "tags": []
   },
   "outputs": [
    {
     "name": "stdout",
     "output_type": "stream",
     "text": [
      "/kaggle/input/feedback-prize-english-language-learning/sample_submission.csv\n",
      "/kaggle/input/feedback-prize-english-language-learning/train.csv\n",
      "/kaggle/input/feedback-prize-english-language-learning/test.csv\n"
     ]
    }
   ],
   "source": [
    "# This Python 3 environment comes with many helpful analytics libraries installed\n",
    "# It is defined by the kaggle/python Docker image: https://github.com/kaggle/docker-python\n",
    "# For example, here's several helpful packages to load\n",
    "\n",
    "import numpy as np # linear algebra\n",
    "import pandas as pd # data processing, CSV file I/O (e.g. pd.read_csv)\n",
    "\n",
    "# Input data files are available in the read-only \"../input/\" directory\n",
    "# For example, running this (by clicking run or pressing Shift+Enter) will list all files under the input directory\n",
    "\n",
    "import os\n",
    "for dirname, _, filenames in os.walk('/kaggle/input'):\n",
    "    for filename in filenames:\n",
    "        print(os.path.join(dirname, filename))\n",
    "\n",
    "# You can write up to 20GB to the current directory (/kaggle/working/) that gets preserved as output when you create a version using \"Save & Run All\" \n",
    "# You can also write temporary files to /kaggle/temp/, but they won't be saved outside of the current session"
   ]
  },
  {
   "cell_type": "code",
   "execution_count": 2,
   "id": "e8d6b0b9",
   "metadata": {
    "execution": {
     "iopub.execute_input": "2022-10-26T10:51:50.030643Z",
     "iopub.status.busy": "2022-10-26T10:51:50.029862Z",
     "iopub.status.idle": "2022-10-26T10:51:56.312527Z",
     "shell.execute_reply": "2022-10-26T10:51:56.311563Z"
    },
    "papermill": {
     "duration": 6.289222,
     "end_time": "2022-10-26T10:51:56.314956",
     "exception": false,
     "start_time": "2022-10-26T10:51:50.025734",
     "status": "completed"
    },
    "tags": []
   },
   "outputs": [],
   "source": [
    "# Importing libraries\n",
    "import matplotlib.pyplot as plt\n",
    "import keras\n",
    "from keras import Sequential\n",
    "from keras.layers import Dense\n",
    "from keras.layers import LSTM,Dropout\n",
    "from sklearn.feature_extraction.text import CountVectorizer\n",
    "from sklearn.model_selection import train_test_split\n",
    "import seaborn as sns"
   ]
  },
  {
   "cell_type": "code",
   "execution_count": 3,
   "id": "9a54d30c",
   "metadata": {
    "execution": {
     "iopub.execute_input": "2022-10-26T10:51:56.324875Z",
     "iopub.status.busy": "2022-10-26T10:51:56.324366Z",
     "iopub.status.idle": "2022-10-26T10:51:56.523272Z",
     "shell.execute_reply": "2022-10-26T10:51:56.522252Z"
    },
    "papermill": {
     "duration": 0.206725,
     "end_time": "2022-10-26T10:51:56.525578",
     "exception": false,
     "start_time": "2022-10-26T10:51:56.318853",
     "status": "completed"
    },
    "tags": []
   },
   "outputs": [
    {
     "data": {
      "text/plain": [
       "(array(['text_id', 'full_text', 'cohesion', 'syntax', 'vocabulary',\n",
       "        'phraseology', 'grammar', 'conventions'], dtype=object),\n",
       " array(['text_id', 'cohesion', 'syntax', 'vocabulary', 'phraseology',\n",
       "        'grammar', 'conventions'], dtype=object))"
      ]
     },
     "execution_count": 3,
     "metadata": {},
     "output_type": "execute_result"
    }
   ],
   "source": [
    "# Reading the input files \n",
    "data1 = pd.read_csv(\"/kaggle/input/feedback-prize-english-language-learning/train.csv\")\n",
    "test_data = pd.read_csv(\"/kaggle/input/feedback-prize-english-language-learning/test.csv\")\n",
    "data2 = pd.read_csv(\"/kaggle/input/feedback-prize-english-language-learning/sample_submission.csv\")\n",
    "data1.columns.values, data2.columns.values"
   ]
  },
  {
   "cell_type": "code",
   "execution_count": 4,
   "id": "963444f1",
   "metadata": {
    "execution": {
     "iopub.execute_input": "2022-10-26T10:51:56.534313Z",
     "iopub.status.busy": "2022-10-26T10:51:56.534022Z",
     "iopub.status.idle": "2022-10-26T10:51:56.543407Z",
     "shell.execute_reply": "2022-10-26T10:51:56.542426Z"
    },
    "papermill": {
     "duration": 0.016008,
     "end_time": "2022-10-26T10:51:56.545508",
     "exception": false,
     "start_time": "2022-10-26T10:51:56.529500",
     "status": "completed"
    },
    "tags": []
   },
   "outputs": [],
   "source": [
    "# Target column\n",
    "test_data = test_data['full_text']"
   ]
  },
  {
   "cell_type": "code",
   "execution_count": 5,
   "id": "4266927d",
   "metadata": {
    "execution": {
     "iopub.execute_input": "2022-10-26T10:51:56.553777Z",
     "iopub.status.busy": "2022-10-26T10:51:56.553505Z",
     "iopub.status.idle": "2022-10-26T10:51:58.398133Z",
     "shell.execute_reply": "2022-10-26T10:51:58.397052Z"
    },
    "papermill": {
     "duration": 1.851704,
     "end_time": "2022-10-26T10:51:58.400638",
     "exception": false,
     "start_time": "2022-10-26T10:51:56.548934",
     "status": "completed"
    },
    "tags": []
   },
   "outputs": [
    {
     "name": "stdout",
     "output_type": "stream",
     "text": [
      "(3,)\n",
      "(3911, 21363)\n",
      "(3911, 6)\n",
      "(3, 21363)\n"
     ]
    }
   ],
   "source": [
    "vector = CountVectorizer() # Dividing the sentence in words\n",
    "X_train = data1['full_text']\n",
    "y_train = np.array(data1.iloc[:,2:])\n",
    "print(test_data.shape)\n",
    "vector.fit(X_train)\n",
    "# Normalizing the values of training data\n",
    "X_train = vector. transform(X_train)\n",
    "print(X_train.shape)\n",
    "print(y_train.shape)\n",
    "# Normalizing the values of test data\n",
    "test_data = vector.transform(test_data)\n",
    "print(test_data.shape)"
   ]
  },
  {
   "cell_type": "code",
   "execution_count": 6,
   "id": "1d8e4f26",
   "metadata": {
    "execution": {
     "iopub.execute_input": "2022-10-26T10:51:58.410693Z",
     "iopub.status.busy": "2022-10-26T10:51:58.409258Z",
     "iopub.status.idle": "2022-10-26T10:51:58.422658Z",
     "shell.execute_reply": "2022-10-26T10:51:58.421681Z"
    },
    "papermill": {
     "duration": 0.020293,
     "end_time": "2022-10-26T10:51:58.424703",
     "exception": false,
     "start_time": "2022-10-26T10:51:58.404410",
     "status": "completed"
    },
    "tags": []
   },
   "outputs": [
    {
     "data": {
      "text/plain": [
       "((3519, 21363), (3519, 6))"
      ]
     },
     "execution_count": 6,
     "metadata": {},
     "output_type": "execute_result"
    }
   ],
   "source": [
    "# Splitting the dataset \n",
    "X_train, X_val, y_train, y_val = train_test_split(X_train, y_train, test_size = 0.1)\n",
    "X_train.shape, y_train.shape "
   ]
  },
  {
   "cell_type": "code",
   "execution_count": 7,
   "id": "b0de3091",
   "metadata": {
    "execution": {
     "iopub.execute_input": "2022-10-26T10:51:58.433483Z",
     "iopub.status.busy": "2022-10-26T10:51:58.433199Z",
     "iopub.status.idle": "2022-10-26T10:51:58.438184Z",
     "shell.execute_reply": "2022-10-26T10:51:58.437342Z"
    },
    "papermill": {
     "duration": 0.011868,
     "end_time": "2022-10-26T10:51:58.440228",
     "exception": false,
     "start_time": "2022-10-26T10:51:58.428360",
     "status": "completed"
    },
    "tags": []
   },
   "outputs": [],
   "source": [
    "# X_train.shape, y_train.shape "
   ]
  },
  {
   "cell_type": "code",
   "execution_count": 8,
   "id": "a7d6615c",
   "metadata": {
    "execution": {
     "iopub.execute_input": "2022-10-26T10:51:58.449062Z",
     "iopub.status.busy": "2022-10-26T10:51:58.448315Z",
     "iopub.status.idle": "2022-10-26T10:52:01.616027Z",
     "shell.execute_reply": "2022-10-26T10:52:01.615036Z"
    },
    "papermill": {
     "duration": 3.174873,
     "end_time": "2022-10-26T10:52:01.618792",
     "exception": false,
     "start_time": "2022-10-26T10:51:58.443919",
     "status": "completed"
    },
    "tags": []
   },
   "outputs": [
    {
     "name": "stderr",
     "output_type": "stream",
     "text": [
      "2022-10-26 10:51:58.541035: I tensorflow/stream_executor/cuda/cuda_gpu_executor.cc:937] successful NUMA node read from SysFS had negative value (-1), but there must be at least one NUMA node, so returning NUMA node zero\n",
      "2022-10-26 10:51:58.750130: I tensorflow/stream_executor/cuda/cuda_gpu_executor.cc:937] successful NUMA node read from SysFS had negative value (-1), but there must be at least one NUMA node, so returning NUMA node zero\n",
      "2022-10-26 10:51:58.750922: I tensorflow/stream_executor/cuda/cuda_gpu_executor.cc:937] successful NUMA node read from SysFS had negative value (-1), but there must be at least one NUMA node, so returning NUMA node zero\n",
      "2022-10-26 10:51:58.752533: I tensorflow/core/platform/cpu_feature_guard.cc:142] This TensorFlow binary is optimized with oneAPI Deep Neural Network Library (oneDNN) to use the following CPU instructions in performance-critical operations:  AVX2 AVX512F FMA\n",
      "To enable them in other operations, rebuild TensorFlow with the appropriate compiler flags.\n",
      "2022-10-26 10:51:58.752862: I tensorflow/stream_executor/cuda/cuda_gpu_executor.cc:937] successful NUMA node read from SysFS had negative value (-1), but there must be at least one NUMA node, so returning NUMA node zero\n",
      "2022-10-26 10:51:58.753581: I tensorflow/stream_executor/cuda/cuda_gpu_executor.cc:937] successful NUMA node read from SysFS had negative value (-1), but there must be at least one NUMA node, so returning NUMA node zero\n",
      "2022-10-26 10:51:58.754253: I tensorflow/stream_executor/cuda/cuda_gpu_executor.cc:937] successful NUMA node read from SysFS had negative value (-1), but there must be at least one NUMA node, so returning NUMA node zero\n",
      "2022-10-26 10:52:01.174325: I tensorflow/stream_executor/cuda/cuda_gpu_executor.cc:937] successful NUMA node read from SysFS had negative value (-1), but there must be at least one NUMA node, so returning NUMA node zero\n",
      "2022-10-26 10:52:01.175231: I tensorflow/stream_executor/cuda/cuda_gpu_executor.cc:937] successful NUMA node read from SysFS had negative value (-1), but there must be at least one NUMA node, so returning NUMA node zero\n",
      "2022-10-26 10:52:01.175918: I tensorflow/stream_executor/cuda/cuda_gpu_executor.cc:937] successful NUMA node read from SysFS had negative value (-1), but there must be at least one NUMA node, so returning NUMA node zero\n",
      "2022-10-26 10:52:01.176535: I tensorflow/core/common_runtime/gpu/gpu_device.cc:1510] Created device /job:localhost/replica:0/task:0/device:GPU:0 with 15401 MB memory:  -> device: 0, name: Tesla P100-PCIE-16GB, pci bus id: 0000:00:04.0, compute capability: 6.0\n"
     ]
    }
   ],
   "source": [
    "# Applying the model\n",
    "model = Sequential()\n",
    "# Adding three hidden layers\n",
    "model.add(Dense(512, input_dim = 21363, activation= 'relu'))\n",
    "model.add(Dense(512, activation = 'relu'))\n",
    "model.add(Dense(512,  activation = 'relu'))\n",
    "model.add(Dense(512,  activation = 'relu'))\n",
    "model.add(Dense(512,  activation = 'relu'))\n",
    "model.add(Dense(512,  activation = 'relu'))\n",
    "\n",
    "model.add(Dropout(0.1))\n",
    "model.add(Dense(6, activation='relu'))"
   ]
  },
  {
   "cell_type": "code",
   "execution_count": 9,
   "id": "645d0a7d",
   "metadata": {
    "execution": {
     "iopub.execute_input": "2022-10-26T10:52:01.629273Z",
     "iopub.status.busy": "2022-10-26T10:52:01.628432Z",
     "iopub.status.idle": "2022-10-26T10:52:01.640780Z",
     "shell.execute_reply": "2022-10-26T10:52:01.639745Z"
    },
    "papermill": {
     "duration": 0.019807,
     "end_time": "2022-10-26T10:52:01.642949",
     "exception": false,
     "start_time": "2022-10-26T10:52:01.623142",
     "status": "completed"
    },
    "tags": []
   },
   "outputs": [],
   "source": [
    "# Compiling the model\n",
    "model.compile(loss = 'mse', optimizer = 'adam')"
   ]
  },
  {
   "cell_type": "code",
   "execution_count": 10,
   "id": "be092773",
   "metadata": {
    "execution": {
     "iopub.execute_input": "2022-10-26T10:52:01.653461Z",
     "iopub.status.busy": "2022-10-26T10:52:01.652555Z",
     "iopub.status.idle": "2022-10-26T10:52:41.197183Z",
     "shell.execute_reply": "2022-10-26T10:52:41.196268Z"
    },
    "papermill": {
     "duration": 39.551771,
     "end_time": "2022-10-26T10:52:41.199196",
     "exception": false,
     "start_time": "2022-10-26T10:52:01.647425",
     "status": "completed"
    },
    "tags": []
   },
   "outputs": [
    {
     "name": "stdout",
     "output_type": "stream",
     "text": [
      "Epoch 1/50\n"
     ]
    },
    {
     "name": "stderr",
     "output_type": "stream",
     "text": [
      "/opt/conda/lib/python3.7/site-packages/tensorflow/python/framework/indexed_slices.py:449: UserWarning: Converting sparse IndexedSlices(IndexedSlices(indices=Tensor(\"gradient_tape/sequential/dense/embedding_lookup_sparse/Reshape_1:0\", shape=(None,), dtype=int32), values=Tensor(\"gradient_tape/sequential/dense/embedding_lookup_sparse/Reshape:0\", shape=(None, 512), dtype=float32), dense_shape=Tensor(\"gradient_tape/sequential/dense/embedding_lookup_sparse/Cast:0\", shape=(2,), dtype=int32))) to a dense Tensor of unknown shape. This may consume a large amount of memory.\n",
      "  \"shape. This may consume a large amount of memory.\" % value)\n",
      "2022-10-26 10:52:02.458628: I tensorflow/compiler/mlir/mlir_graph_optimization_pass.cc:185] None of the MLIR Optimization Passes are enabled (registered 2)\n"
     ]
    },
    {
     "name": "stdout",
     "output_type": "stream",
     "text": [
      "110/110 [==============================] - 3s 6ms/step - loss: 1.6425\n",
      "Epoch 2/50\n",
      "110/110 [==============================] - 1s 6ms/step - loss: 0.3736\n",
      "Epoch 3/50\n",
      "110/110 [==============================] - 1s 6ms/step - loss: 0.2561\n",
      "Epoch 4/50\n",
      "110/110 [==============================] - 1s 6ms/step - loss: 0.1980\n",
      "Epoch 5/50\n",
      "110/110 [==============================] - 1s 6ms/step - loss: 0.1813\n",
      "Epoch 6/50\n",
      "110/110 [==============================] - 1s 6ms/step - loss: 0.1610\n",
      "Epoch 7/50\n",
      "110/110 [==============================] - 1s 6ms/step - loss: 0.1433\n",
      "Epoch 8/50\n",
      "110/110 [==============================] - 1s 6ms/step - loss: 0.1290\n",
      "Epoch 9/50\n",
      "110/110 [==============================] - 1s 6ms/step - loss: 0.1148\n",
      "Epoch 10/50\n",
      "110/110 [==============================] - 1s 6ms/step - loss: 0.0991\n",
      "Epoch 11/50\n",
      "110/110 [==============================] - 1s 6ms/step - loss: 0.0862\n",
      "Epoch 12/50\n",
      "110/110 [==============================] - 1s 6ms/step - loss: 0.0754\n",
      "Epoch 13/50\n",
      "110/110 [==============================] - 1s 7ms/step - loss: 0.0656\n",
      "Epoch 14/50\n",
      "110/110 [==============================] - 1s 6ms/step - loss: 0.0554\n",
      "Epoch 15/50\n",
      "110/110 [==============================] - 1s 6ms/step - loss: 0.0468\n",
      "Epoch 16/50\n",
      "110/110 [==============================] - 1s 6ms/step - loss: 0.0459\n",
      "Epoch 17/50\n",
      "110/110 [==============================] - 1s 6ms/step - loss: 0.0459\n",
      "Epoch 18/50\n",
      "110/110 [==============================] - 1s 6ms/step - loss: 0.0430\n",
      "Epoch 19/50\n",
      "110/110 [==============================] - 1s 6ms/step - loss: 0.0400\n",
      "Epoch 20/50\n",
      "110/110 [==============================] - 1s 6ms/step - loss: 0.0369\n",
      "Epoch 21/50\n",
      "110/110 [==============================] - 1s 6ms/step - loss: 0.0346\n",
      "Epoch 22/50\n",
      "110/110 [==============================] - 1s 6ms/step - loss: 0.0380\n",
      "Epoch 23/50\n",
      "110/110 [==============================] - 1s 6ms/step - loss: 0.0394\n",
      "Epoch 24/50\n",
      "110/110 [==============================] - 1s 6ms/step - loss: 0.0349\n",
      "Epoch 25/50\n",
      "110/110 [==============================] - 1s 6ms/step - loss: 0.0316\n",
      "Epoch 26/50\n",
      "110/110 [==============================] - 1s 7ms/step - loss: 0.0306\n",
      "Epoch 27/50\n",
      "110/110 [==============================] - 1s 6ms/step - loss: 0.0341\n",
      "Epoch 28/50\n",
      "110/110 [==============================] - 1s 7ms/step - loss: 0.0320\n",
      "Epoch 29/50\n",
      "110/110 [==============================] - 1s 6ms/step - loss: 0.0306\n",
      "Epoch 30/50\n",
      "110/110 [==============================] - 1s 6ms/step - loss: 0.0321\n",
      "Epoch 31/50\n",
      "110/110 [==============================] - 1s 6ms/step - loss: 0.0330\n",
      "Epoch 32/50\n",
      "110/110 [==============================] - 1s 6ms/step - loss: 0.0291\n",
      "Epoch 33/50\n",
      "110/110 [==============================] - 1s 6ms/step - loss: 0.0287\n",
      "Epoch 34/50\n",
      "110/110 [==============================] - 1s 6ms/step - loss: 0.0279\n",
      "Epoch 35/50\n",
      "110/110 [==============================] - 1s 6ms/step - loss: 0.0290\n",
      "Epoch 36/50\n",
      "110/110 [==============================] - 1s 6ms/step - loss: 0.0275\n",
      "Epoch 37/50\n",
      "110/110 [==============================] - 1s 6ms/step - loss: 0.0251\n",
      "Epoch 38/50\n",
      "110/110 [==============================] - 1s 6ms/step - loss: 0.0325\n",
      "Epoch 39/50\n",
      "110/110 [==============================] - 1s 6ms/step - loss: 0.0307\n",
      "Epoch 40/50\n",
      "110/110 [==============================] - 1s 6ms/step - loss: 0.0269\n",
      "Epoch 41/50\n",
      "110/110 [==============================] - 1s 6ms/step - loss: 0.0275\n",
      "Epoch 42/50\n",
      "110/110 [==============================] - 1s 7ms/step - loss: 0.0281\n",
      "Epoch 43/50\n",
      "110/110 [==============================] - 1s 6ms/step - loss: 0.0269\n",
      "Epoch 44/50\n",
      "110/110 [==============================] - 1s 6ms/step - loss: 0.0258\n",
      "Epoch 45/50\n",
      "110/110 [==============================] - 1s 6ms/step - loss: 0.0282\n",
      "Epoch 46/50\n",
      "110/110 [==============================] - 1s 6ms/step - loss: 0.0290\n",
      "Epoch 47/50\n",
      "110/110 [==============================] - 1s 6ms/step - loss: 0.0251\n",
      "Epoch 48/50\n",
      "110/110 [==============================] - 1s 6ms/step - loss: 0.0248\n",
      "Epoch 49/50\n",
      "110/110 [==============================] - 1s 6ms/step - loss: 0.0255\n",
      "Epoch 50/50\n",
      "110/110 [==============================] - 1s 6ms/step - loss: 0.0272\n"
     ]
    },
    {
     "data": {
      "text/plain": [
       "<keras.callbacks.History at 0x7f46ea7c76d0>"
      ]
     },
     "execution_count": 10,
     "metadata": {},
     "output_type": "execute_result"
    }
   ],
   "source": [
    "# Fitting the model\n",
    "model.fit(X_train, y_train, epochs = 50)"
   ]
  },
  {
   "cell_type": "code",
   "execution_count": 11,
   "id": "f2ebe807",
   "metadata": {
    "execution": {
     "iopub.execute_input": "2022-10-26T10:52:41.282923Z",
     "iopub.status.busy": "2022-10-26T10:52:41.281177Z",
     "iopub.status.idle": "2022-10-26T10:52:41.497400Z",
     "shell.execute_reply": "2022-10-26T10:52:41.496470Z"
    },
    "papermill": {
     "duration": 0.259968,
     "end_time": "2022-10-26T10:52:41.499453",
     "exception": false,
     "start_time": "2022-10-26T10:52:41.239485",
     "status": "completed"
    },
    "tags": []
   },
   "outputs": [
    {
     "name": "stdout",
     "output_type": "stream",
     "text": [
      "13/13 [==============================] - 0s 3ms/step - loss: 0.3305\n"
     ]
    },
    {
     "data": {
      "text/plain": [
       "0.3304752707481384"
      ]
     },
     "execution_count": 11,
     "metadata": {},
     "output_type": "execute_result"
    }
   ],
   "source": [
    "val_loss = model.evaluate(X_val, y_val)\n",
    "val_loss"
   ]
  },
  {
   "cell_type": "code",
   "execution_count": null,
   "id": "29a257cb",
   "metadata": {
    "papermill": {
     "duration": 0.040545,
     "end_time": "2022-10-26T10:52:41.580776",
     "exception": false,
     "start_time": "2022-10-26T10:52:41.540231",
     "status": "completed"
    },
    "tags": []
   },
   "outputs": [],
   "source": []
  },
  {
   "cell_type": "code",
   "execution_count": 12,
   "id": "249a22b2",
   "metadata": {
    "execution": {
     "iopub.execute_input": "2022-10-26T10:52:41.664723Z",
     "iopub.status.busy": "2022-10-26T10:52:41.663842Z",
     "iopub.status.idle": "2022-10-26T10:52:41.786733Z",
     "shell.execute_reply": "2022-10-26T10:52:41.785610Z"
    },
    "papermill": {
     "duration": 0.168128,
     "end_time": "2022-10-26T10:52:41.789074",
     "exception": false,
     "start_time": "2022-10-26T10:52:41.620946",
     "status": "completed"
    },
    "tags": []
   },
   "outputs": [],
   "source": [
    "y_pred = model.predict(test_data)\n",
    "data2.iloc[:,1:] = y_pred"
   ]
  },
  {
   "cell_type": "code",
   "execution_count": 13,
   "id": "25c5cc99",
   "metadata": {
    "execution": {
     "iopub.execute_input": "2022-10-26T10:52:41.871479Z",
     "iopub.status.busy": "2022-10-26T10:52:41.871181Z",
     "iopub.status.idle": "2022-10-26T10:52:41.878242Z",
     "shell.execute_reply": "2022-10-26T10:52:41.877396Z"
    },
    "papermill": {
     "duration": 0.050223,
     "end_time": "2022-10-26T10:52:41.880152",
     "exception": false,
     "start_time": "2022-10-26T10:52:41.829929",
     "status": "completed"
    },
    "tags": []
   },
   "outputs": [],
   "source": [
    "# Saving the file in submission.csv\n",
    "data2.to_csv('submission.csv', index = False)"
   ]
  },
  {
   "cell_type": "code",
   "execution_count": null,
   "id": "ada0482d",
   "metadata": {
    "papermill": {
     "duration": 0.039713,
     "end_time": "2022-10-26T10:52:41.960493",
     "exception": false,
     "start_time": "2022-10-26T10:52:41.920780",
     "status": "completed"
    },
    "tags": []
   },
   "outputs": [],
   "source": []
  }
 ],
 "metadata": {
  "kernelspec": {
   "display_name": "Python 3",
   "language": "python",
   "name": "python3"
  },
  "language_info": {
   "codemirror_mode": {
    "name": "ipython",
    "version": 3
   },
   "file_extension": ".py",
   "mimetype": "text/x-python",
   "name": "python",
   "nbconvert_exporter": "python",
   "pygments_lexer": "ipython3",
   "version": "3.7.12"
  },
  "papermill": {
   "default_parameters": {},
   "duration": 63.403217,
   "end_time": "2022-10-26T10:52:45.470544",
   "environment_variables": {},
   "exception": null,
   "input_path": "__notebook__.ipynb",
   "output_path": "__notebook__.ipynb",
   "parameters": {},
   "start_time": "2022-10-26T10:51:42.067327",
   "version": "2.3.4"
  }
 },
 "nbformat": 4,
 "nbformat_minor": 5
}
